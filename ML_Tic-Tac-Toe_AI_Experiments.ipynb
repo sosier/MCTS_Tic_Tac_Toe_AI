{
 "cells": [
  {
   "cell_type": "code",
   "execution_count": 1,
   "metadata": {
    "collapsed": true
   },
   "outputs": [],
   "source": [
    "from random import randint\n",
    "from random import choice\n",
    "import copy\n",
    "from collections import Counter\n",
    "import numpy as np\n",
    "import pandas as pd\n",
    "from sklearn.tree import DecisionTreeRegressor"
   ]
  },
  {
   "cell_type": "code",
   "execution_count": 2,
   "metadata": {},
   "outputs": [],
   "source": [
    "#Set Up Variables\n",
    "rows = 3\n",
    "columns = 3\n",
    "\n",
    "openMarker = \" \"\n",
    "player1Marker = \"X\"\n",
    "player2Marker = \"O\""
   ]
  },
  {
   "cell_type": "code",
   "execution_count": 3,
   "metadata": {},
   "outputs": [],
   "source": [
    "#Generate New Game Board\n",
    "def generateGameBoard(rows, columns):\n",
    "    gameBoard = []\n",
    "    \n",
    "    for r in range(rows):\n",
    "        gameBoard.append([])\n",
    "        for c in range(columns):\n",
    "            gameBoard[r].append(0)\n",
    "            \n",
    "    return gameBoard"
   ]
  },
  {
   "cell_type": "code",
   "execution_count": 4,
   "metadata": {},
   "outputs": [],
   "source": [
    "#Display Current Game Board All Pretty Like\n",
    "def displayGame(gameBoard):\n",
    "    for row in range(len(gameBoard)):\n",
    "        \n",
    "        if row > 0:\n",
    "            print(\"___________\")\n",
    "        \n",
    "        rowString = \" \"\n",
    "        \n",
    "        for column in range(len(gameBoard[row])):\n",
    "            \n",
    "            if column > 0:\n",
    "                rowString = rowString + \" | \"\n",
    "                \n",
    "            rowString = rowString + str(gameBoard[row][column])\n",
    "        \n",
    "        rowString = rowString + \" \"\n",
    "        \n",
    "        print(rowString)\n",
    "    print(\"\")"
   ]
  },
  {
   "cell_type": "code",
   "execution_count": 5,
   "metadata": {
    "collapsed": true
   },
   "outputs": [],
   "source": [
    "def checkOpenSpots(gameBoard):\n",
    "    openSpots = []\n",
    "    \n",
    "    for r in range(len(gameBoard)):\n",
    "        for c in range(len(gameBoard[r])):\n",
    "            if gameBoard[r][c] == 0:\n",
    "                openSpots.append([r, c])\n",
    "                \n",
    "    return openSpots"
   ]
  },
  {
   "cell_type": "code",
   "execution_count": 6,
   "metadata": {
    "collapsed": true
   },
   "outputs": [],
   "source": [
    "def placeMarker(player, row, column, gameBoard):\n",
    "    gameBoard[row][column] = player"
   ]
  },
  {
   "cell_type": "code",
   "execution_count": 7,
   "metadata": {
    "collapsed": true
   },
   "outputs": [],
   "source": [
    "def checkRowForWin(gameBoard, row, player):\n",
    "    for column in range(len(gameBoard[row])):\n",
    "        if gameBoard[row][column] != player:\n",
    "            return False\n",
    "                \n",
    "    return True"
   ]
  },
  {
   "cell_type": "code",
   "execution_count": 8,
   "metadata": {
    "collapsed": true
   },
   "outputs": [],
   "source": [
    "def checkColumnForWin(gameBoard, column, player):\n",
    "    for row in range(len(gameBoard)):\n",
    "        if gameBoard[row][column] != player:\n",
    "            return False\n",
    "                \n",
    "    return True"
   ]
  },
  {
   "cell_type": "code",
   "execution_count": 9,
   "metadata": {
    "collapsed": true
   },
   "outputs": [],
   "source": [
    "def checkDiagForWin(gameBoard, diagonal, player):\n",
    "    if diagonal == \"L\":\n",
    "        for rowColumn in range(len(gameBoard)):\n",
    "            if gameBoard[rowColumn][rowColumn] != player:\n",
    "                return False\n",
    "                \n",
    "        return True\n",
    "    else:\n",
    "        for row in range(len(gameBoard)):\n",
    "            column = len(gameBoard) - row - 1\n",
    "            \n",
    "            if gameBoard[row][column] != player:\n",
    "                    return False\n",
    "        \n",
    "        return True"
   ]
  },
  {
   "cell_type": "code",
   "execution_count": 10,
   "metadata": {
    "collapsed": true
   },
   "outputs": [],
   "source": [
    "def checkForWin(gameBoard, player):\n",
    "    win = False\n",
    "    \n",
    "    for row in range(len(gameBoard)):\n",
    "        win = checkRowForWin(game, row, player)\n",
    "        \n",
    "        if win:\n",
    "            return win\n",
    "        \n",
    "    for column in range(len(gameBoard[0])):\n",
    "        win = checkColumnForWin(game, column, player)\n",
    "        \n",
    "        if win:\n",
    "            return win\n",
    "        \n",
    "    win = checkDiagForWin(game, \"L\", player)\n",
    "    if win:\n",
    "        return win\n",
    "        \n",
    "    win = checkDiagForWin(game, \"R\", player)\n",
    "    if win:\n",
    "        return win\n",
    "    \n",
    "    return win"
   ]
  },
  {
   "cell_type": "code",
   "execution_count": 11,
   "metadata": {
    "collapsed": true
   },
   "outputs": [],
   "source": [
    "def checkForTie(gameBoard):\n",
    "    for row in range(len(gameBoard)):\n",
    "        for column in range(len(gameBoard[row])):\n",
    "            if gameBoard[row][column] == 0:\n",
    "                return False\n",
    "            \n",
    "    return True"
   ]
  },
  {
   "cell_type": "code",
   "execution_count": 12,
   "metadata": {},
   "outputs": [],
   "source": [
    "def playGame(player1, player2, gameBoard, display_game=False):\n",
    "    gameOver = False\n",
    "    whoseTurn = randint(1,2)\n",
    "    if whoseTurn == 1:\n",
    "        firstMover = 2\n",
    "    else:\n",
    "        firstMover = 1\n",
    "    \n",
    "    gameLog = []\n",
    "    current_board = copy.deepcopy(gameBoard)\n",
    "    gameLog.append(current_board)\n",
    "    \n",
    "    player1Moves = 0\n",
    "    player2Moves = 0\n",
    "    \n",
    "    player1Result = \"-\"\n",
    "    player2Result = \"-\"\n",
    "    \n",
    "    while not gameOver:\n",
    "        if whoseTurn == 1:\n",
    "            whoseTurn = 2\n",
    "        else:\n",
    "            whoseTurn = 1\n",
    "        \n",
    "        if whoseTurn == 1:\n",
    "            makeMove(player1, whoseTurn, gameBoard)\n",
    "            player1Moves = player1Moves + 1\n",
    "        else:\n",
    "            makeMove(player2, whoseTurn, gameBoard)\n",
    "            player2Moves = player2Moves + 1\n",
    "            \n",
    "        if display_game:\n",
    "            displayGame(gameBoard)\n",
    "        \n",
    "        current_board = copy.deepcopy(gameBoard)\n",
    "        gameLog.append(current_board)\n",
    "        \n",
    "        if checkForWin(gameBoard, whoseTurn):\n",
    "            gameOver = True\n",
    "            \n",
    "            if whoseTurn == 1:\n",
    "                player1Result = \"W\"\n",
    "                player2Result = \"L\"\n",
    "            else:\n",
    "                player1Result = \"L\"\n",
    "                player2Result = \"W\"\n",
    "                \n",
    "        elif checkForTie(gameBoard):\n",
    "            gameOver = True\n",
    "            \n",
    "            player1Result = \"T\"\n",
    "            player2Result = \"T\"\n",
    "            \n",
    "    \"\"\"\n",
    "    if player1Result == \"W\":\n",
    "        print(\"Player 1 Wins\")\n",
    "    elif player1Result == \"T\":\n",
    "        print(\"It's a Tie\")\n",
    "    else:\n",
    "        print(\"Player 2 Wins\")\n",
    "    \"\"\"\n",
    "    \n",
    "    gameData = [player1Result, player2Result, firstMover, player1Moves, player2Moves, gameLog]\n",
    "    return gameData"
   ]
  },
  {
   "cell_type": "code",
   "execution_count": 13,
   "metadata": {
    "collapsed": true
   },
   "outputs": [],
   "source": [
    "def makeMove(player, whoseTurn, gameBoard):\n",
    "    move = player.make_move(whoseTurn, gameBoard)\n",
    "    row = move[0]\n",
    "    column = move[1]\n",
    "    \n",
    "    placeMarker(whoseTurn, row, column, gameBoard)"
   ]
  },
  {
   "cell_type": "code",
   "execution_count": 16,
   "metadata": {
    "collapsed": true
   },
   "outputs": [],
   "source": [
    "class Tic_Tac_Toe_AI(object):\n",
    "    def __init__(self, brain=\"random\"):\n",
    "        self.brain = brain\n",
    "        self.moves = {\"0\": (0, 0),\n",
    "                     \"1\": (0, 1),\n",
    "                     \"2\": (0, 2),\n",
    "                     \"3\": (1, 0),\n",
    "                     \"4\": (1, 1),\n",
    "                     \"5\": (1, 2),\n",
    "                     \"6\": (2, 0),\n",
    "                     \"7\": (2, 1),\n",
    "                     \"8\": (2, 2)}\n",
    "        self.reverse_moves = {(0, 0): \"0\",\n",
    "                     (0, 1): \"1\",\n",
    "                     (0, 2): \"2\",\n",
    "                     (1, 0): \"3\",\n",
    "                     (1, 1): \"4\",\n",
    "                     (1, 2): \"5\",\n",
    "                     (2, 0): \"6\",\n",
    "                     (2, 1): \"7\",\n",
    "                     (2, 2): \"8\"}\n",
    "    \n",
    "    def make_move(self, player_number, gameBoard):\n",
    "        if self.brain == \"random\":\n",
    "            move = self.random_move(gameBoard)\n",
    "        elif self.brain == \"dtr\":\n",
    "            move = self.model_move(regressor, player_number, gameBoard)\n",
    "        \n",
    "        return move\n",
    "    \n",
    "    def get_possible_moves(self, gameBoard):\n",
    "        return [(r, c) for r, row in enumerate(gameBoard) for c, column in enumerate(row) if column == 0]\n",
    "    \n",
    "    def get_move_number(self, gameBoard):\n",
    "        move_count = 0\n",
    "        \n",
    "        for row in gameBoard:\n",
    "            for column in row:\n",
    "                if column > 0:\n",
    "                    move_count += 1\n",
    "        \n",
    "        return move_count\n",
    "    \n",
    "    def random_move(self, gameBoard):\n",
    "        possible_moves = self.get_possible_moves(gameBoard)\n",
    "        move = choice(possible_moves)\n",
    "        return move\n",
    "    \n",
    "    def model_move(self, model, player, gameBoard):\n",
    "        possible_moves = self.get_possible_moves(gameBoard)\n",
    "        possible_moves = [self.reverse_moves[move] for move in possible_moves]\n",
    "        move_number = self.get_move_number(gameBoard)\n",
    "        moves_with_scores = []\n",
    "        for possible_move in possible_moves:\n",
    "            X = np.array([player, move_number] + list(np.ravel(gameBoard)) + [possible_move]).reshape(1, -1)\n",
    "            move_score = model.predict(X)\n",
    "            moves_with_scores.append([possible_move, move_score])\n",
    "        \n",
    "        move = max(moves_with_scores, key=lambda x: x[1])[0]\n",
    "        \n",
    "        return self.moves[move]"
   ]
  },
  {
   "cell_type": "code",
   "execution_count": null,
   "metadata": {},
   "outputs": [],
   "source": [
    "\"\"\"\n",
    "Basic AI Brain:\n",
    "\n",
    "1. All Options --> The Game Board\n",
    "2. All Possible Options --> Only Open Spots\n",
    "3. If only one option ever --> Do it\n",
    "3. If there is a spot that gives win --> Do it\n",
    "4. Remove options that would allow the opponent to win next turn\n",
    "5. No options left or multiple options left --> just random\n",
    "\"\"\"\n",
    "\n",
    "\"\"\"\n",
    "AI v2:\n",
    "\n",
    "1. Play Basic AI over and over to create Bayesian?\n",
    "\n",
    "AI v3:\n",
    "\n",
    "1. Have 2 random AI play each other many times, recording data for all moves and games\n",
    "2. Create model from the recorded that scores all possible moves for the AI\n",
    "3. Pick the move with the highest probability of winning\n",
    "\"\"\""
   ]
  },
  {
   "cell_type": "code",
   "execution_count": 20,
   "metadata": {},
   "outputs": [],
   "source": [
    "random_ai_match_results = []\n",
    "\n",
    "for i in range(1000000):\n",
    "    game = generateGameBoard(rows, columns)\n",
    "    ai1 = Tic_Tac_Toe_AI(\"random\")\n",
    "    ai2 = Tic_Tac_Toe_AI(\"random\")\n",
    "\n",
    "    results = playGame(ai1, ai2, game)\n",
    "    random_ai_match_results.append(results)"
   ]
  },
  {
   "cell_type": "code",
   "execution_count": 21,
   "metadata": {},
   "outputs": [
    {
     "data": {
      "text/plain": [
       "1000000"
      ]
     },
     "execution_count": 21,
     "metadata": {},
     "output_type": "execute_result"
    }
   ],
   "source": [
    "len(random_ai_match_results)"
   ]
  },
  {
   "cell_type": "code",
   "execution_count": 22,
   "metadata": {},
   "outputs": [
    {
     "data": {
      "text/plain": [
       "Counter({'L': 436567, 'T': 126547, 'W': 436886})"
      ]
     },
     "execution_count": 22,
     "metadata": {},
     "output_type": "execute_result"
    }
   ],
   "source": [
    "Counter([game[0] for game in random_ai_match_results])"
   ]
  },
  {
   "cell_type": "code",
   "execution_count": 25,
   "metadata": {},
   "outputs": [
    {
     "data": {
      "text/plain": [
       "['T',\n",
       " 'T',\n",
       " 2,\n",
       " 4,\n",
       " 5,\n",
       " [[[0, 0, 0], [0, 0, 0], [0, 0, 0]],\n",
       "  [[0, 2, 0], [0, 0, 0], [0, 0, 0]],\n",
       "  [[0, 2, 0], [0, 0, 0], [0, 1, 0]],\n",
       "  [[0, 2, 0], [0, 0, 2], [0, 1, 0]],\n",
       "  [[0, 2, 0], [0, 1, 2], [0, 1, 0]],\n",
       "  [[0, 2, 0], [0, 1, 2], [2, 1, 0]],\n",
       "  [[0, 2, 0], [1, 1, 2], [2, 1, 0]],\n",
       "  [[0, 2, 0], [1, 1, 2], [2, 1, 2]],\n",
       "  [[0, 2, 1], [1, 1, 2], [2, 1, 2]],\n",
       "  [[2, 2, 1], [1, 1, 2], [2, 1, 2]]]]"
      ]
     },
     "execution_count": 25,
     "metadata": {},
     "output_type": "execute_result"
    }
   ],
   "source": [
    "random_ai_match_results[0]"
   ]
  },
  {
   "cell_type": "code",
   "execution_count": 26,
   "metadata": {
    "collapsed": true
   },
   "outputs": [],
   "source": [
    "def expand_single_game_data(single_game_data):\n",
    "    player1Result, player2Result, firstMover, player1Moves, player2Moves, gameLog = single_game_data\n",
    "    gameLog = [np.ravel(game_state) for game_state in gameLog]\n",
    "    \n",
    "    expanded_data = []\n",
    "    current_mover = firstMover\n",
    "    \n",
    "    for i, game_state in enumerate(gameLog):\n",
    "        if i < (len(gameLog) - 1):\n",
    "            move = \"\"\n",
    "\n",
    "            for j in range(9):\n",
    "                if gameLog[i][j] != gameLog[i + 1][j]:\n",
    "                    move = j\n",
    "                    break\n",
    "\n",
    "            if current_mover == 1:\n",
    "                result = player1Result\n",
    "            else:\n",
    "                result = player2Result\n",
    "\n",
    "            expanded_data.append([current_mover, i] + list(game_state) + [move, result])\n",
    "            \n",
    "            if current_mover == 1:\n",
    "                current_mover = 2\n",
    "            else:\n",
    "                current_mover = 1\n",
    "    \n",
    "    return expanded_data"
   ]
  },
  {
   "cell_type": "code",
   "execution_count": 27,
   "metadata": {},
   "outputs": [
    {
     "data": {
      "text/plain": [
       "[[2, 0, 0, 0, 0, 0, 0, 0, 0, 0, 0, 1, 'T'],\n",
       " [1, 1, 0, 2, 0, 0, 0, 0, 0, 0, 0, 7, 'T'],\n",
       " [2, 2, 0, 2, 0, 0, 0, 0, 0, 1, 0, 5, 'T'],\n",
       " [1, 3, 0, 2, 0, 0, 0, 2, 0, 1, 0, 4, 'T'],\n",
       " [2, 4, 0, 2, 0, 0, 1, 2, 0, 1, 0, 6, 'T'],\n",
       " [1, 5, 0, 2, 0, 0, 1, 2, 2, 1, 0, 3, 'T'],\n",
       " [2, 6, 0, 2, 0, 1, 1, 2, 2, 1, 0, 8, 'T'],\n",
       " [1, 7, 0, 2, 0, 1, 1, 2, 2, 1, 2, 2, 'T'],\n",
       " [2, 8, 0, 2, 1, 1, 1, 2, 2, 1, 2, 0, 'T']]"
      ]
     },
     "execution_count": 27,
     "metadata": {},
     "output_type": "execute_result"
    }
   ],
   "source": [
    "expand_single_game_data(random_ai_match_results[0])"
   ]
  },
  {
   "cell_type": "code",
   "execution_count": 48,
   "metadata": {
    "collapsed": true
   },
   "outputs": [],
   "source": [
    "def expand_game_data(raw_game_data):\n",
    "    intermediate_expanded_data = [expand_single_game_data(game) for game in raw_game_data]\n",
    "    \n",
    "    expanded_data = []\n",
    "    for game in intermediate_expanded_data:\n",
    "        expanded_data += game\n",
    "        \n",
    "    # Convert W, T, L to numeric\n",
    "    for move in expanded_data:\n",
    "        if move[-1] == \"W\":\n",
    "            move[-1] = 1\n",
    "        elif move[-1] == \"T\":\n",
    "            move[-1] = 0\n",
    "        else:\n",
    "            move[-1] = -1\n",
    "    \n",
    "    return expanded_data"
   ]
  },
  {
   "cell_type": "code",
   "execution_count": 29,
   "metadata": {},
   "outputs": [],
   "source": [
    "random_ai_match_results = expand_game_data(random_ai_match_results)"
   ]
  },
  {
   "cell_type": "code",
   "execution_count": 31,
   "metadata": {},
   "outputs": [
    {
     "data": {
      "text/plain": [
       "7624742"
      ]
     },
     "execution_count": 31,
     "metadata": {},
     "output_type": "execute_result"
    }
   ],
   "source": [
    "len(random_ai_match_results)"
   ]
  },
  {
   "cell_type": "code",
   "execution_count": 32,
   "metadata": {},
   "outputs": [
    {
     "data": {
      "text/plain": [
       "[[2, 0, 0, 0, 0, 0, 0, 0, 0, 0, 0, 1, 0],\n",
       " [1, 1, 0, 2, 0, 0, 0, 0, 0, 0, 0, 7, 0],\n",
       " [2, 2, 0, 2, 0, 0, 0, 0, 0, 1, 0, 5, 0],\n",
       " [1, 3, 0, 2, 0, 0, 0, 2, 0, 1, 0, 4, 0],\n",
       " [2, 4, 0, 2, 0, 0, 1, 2, 0, 1, 0, 6, 0],\n",
       " [1, 5, 0, 2, 0, 0, 1, 2, 2, 1, 0, 3, 0],\n",
       " [2, 6, 0, 2, 0, 1, 1, 2, 2, 1, 0, 8, 0],\n",
       " [1, 7, 0, 2, 0, 1, 1, 2, 2, 1, 2, 2, 0],\n",
       " [2, 8, 0, 2, 1, 1, 1, 2, 2, 1, 2, 0, 0],\n",
       " [2, 0, 0, 0, 0, 0, 0, 0, 0, 0, 0, 7, -1],\n",
       " [1, 1, 0, 0, 0, 0, 0, 0, 0, 2, 0, 4, 1],\n",
       " [2, 2, 0, 0, 0, 0, 1, 0, 0, 2, 0, 3, -1],\n",
       " [1, 3, 0, 0, 0, 2, 1, 0, 0, 2, 0, 0, 1],\n",
       " [2, 4, 1, 0, 0, 2, 1, 0, 0, 2, 0, 8, -1],\n",
       " [1, 5, 1, 0, 0, 2, 1, 0, 0, 2, 2, 2, 1],\n",
       " [2, 6, 1, 0, 1, 2, 1, 0, 0, 2, 2, 1, -1],\n",
       " [1, 7, 1, 2, 1, 2, 1, 0, 0, 2, 2, 6, 1],\n",
       " [1, 0, 0, 0, 0, 0, 0, 0, 0, 0, 0, 1, -1],\n",
       " [2, 1, 0, 1, 0, 0, 0, 0, 0, 0, 0, 6, 1],\n",
       " [1, 2, 0, 1, 0, 0, 0, 0, 2, 0, 0, 7, -1]]"
      ]
     },
     "execution_count": 32,
     "metadata": {},
     "output_type": "execute_result"
    }
   ],
   "source": [
    "random_ai_match_results[:20]"
   ]
  },
  {
   "cell_type": "code",
   "execution_count": 33,
   "metadata": {},
   "outputs": [],
   "source": [
    "random_ai_match_df = pd.DataFrame(random_ai_match_results, \n",
    "                                  columns=[\"player\", \"move_number\", \"sq0\", \"sq1\", \"sq2\", \"sq3\", \"sq4\", \"sq5\", \"sq6\", \n",
    "                                           \"sq7\", \"sq8\", \"move\", \"status\"])"
   ]
  },
  {
   "cell_type": "code",
   "execution_count": 34,
   "metadata": {},
   "outputs": [
    {
     "data": {
      "text/html": [
       "<div>\n",
       "<table border=\"1\" class=\"dataframe\">\n",
       "  <thead>\n",
       "    <tr style=\"text-align: right;\">\n",
       "      <th></th>\n",
       "      <th>player</th>\n",
       "      <th>move_number</th>\n",
       "      <th>sq0</th>\n",
       "      <th>sq1</th>\n",
       "      <th>sq2</th>\n",
       "      <th>sq3</th>\n",
       "      <th>sq4</th>\n",
       "      <th>sq5</th>\n",
       "      <th>sq6</th>\n",
       "      <th>sq7</th>\n",
       "      <th>sq8</th>\n",
       "      <th>move</th>\n",
       "      <th>status</th>\n",
       "    </tr>\n",
       "  </thead>\n",
       "  <tbody>\n",
       "    <tr>\n",
       "      <th>0</th>\n",
       "      <td>2</td>\n",
       "      <td>0</td>\n",
       "      <td>0</td>\n",
       "      <td>0</td>\n",
       "      <td>0</td>\n",
       "      <td>0</td>\n",
       "      <td>0</td>\n",
       "      <td>0</td>\n",
       "      <td>0</td>\n",
       "      <td>0</td>\n",
       "      <td>0</td>\n",
       "      <td>1</td>\n",
       "      <td>0</td>\n",
       "    </tr>\n",
       "    <tr>\n",
       "      <th>1</th>\n",
       "      <td>1</td>\n",
       "      <td>1</td>\n",
       "      <td>0</td>\n",
       "      <td>2</td>\n",
       "      <td>0</td>\n",
       "      <td>0</td>\n",
       "      <td>0</td>\n",
       "      <td>0</td>\n",
       "      <td>0</td>\n",
       "      <td>0</td>\n",
       "      <td>0</td>\n",
       "      <td>7</td>\n",
       "      <td>0</td>\n",
       "    </tr>\n",
       "    <tr>\n",
       "      <th>2</th>\n",
       "      <td>2</td>\n",
       "      <td>2</td>\n",
       "      <td>0</td>\n",
       "      <td>2</td>\n",
       "      <td>0</td>\n",
       "      <td>0</td>\n",
       "      <td>0</td>\n",
       "      <td>0</td>\n",
       "      <td>0</td>\n",
       "      <td>1</td>\n",
       "      <td>0</td>\n",
       "      <td>5</td>\n",
       "      <td>0</td>\n",
       "    </tr>\n",
       "    <tr>\n",
       "      <th>3</th>\n",
       "      <td>1</td>\n",
       "      <td>3</td>\n",
       "      <td>0</td>\n",
       "      <td>2</td>\n",
       "      <td>0</td>\n",
       "      <td>0</td>\n",
       "      <td>0</td>\n",
       "      <td>2</td>\n",
       "      <td>0</td>\n",
       "      <td>1</td>\n",
       "      <td>0</td>\n",
       "      <td>4</td>\n",
       "      <td>0</td>\n",
       "    </tr>\n",
       "    <tr>\n",
       "      <th>4</th>\n",
       "      <td>2</td>\n",
       "      <td>4</td>\n",
       "      <td>0</td>\n",
       "      <td>2</td>\n",
       "      <td>0</td>\n",
       "      <td>0</td>\n",
       "      <td>1</td>\n",
       "      <td>2</td>\n",
       "      <td>0</td>\n",
       "      <td>1</td>\n",
       "      <td>0</td>\n",
       "      <td>6</td>\n",
       "      <td>0</td>\n",
       "    </tr>\n",
       "  </tbody>\n",
       "</table>\n",
       "</div>"
      ],
      "text/plain": [
       "   player  move_number  sq0  sq1  sq2  sq3  sq4  sq5  sq6  sq7  sq8  move  \\\n",
       "0       2            0    0    0    0    0    0    0    0    0    0     1   \n",
       "1       1            1    0    2    0    0    0    0    0    0    0     7   \n",
       "2       2            2    0    2    0    0    0    0    0    1    0     5   \n",
       "3       1            3    0    2    0    0    0    2    0    1    0     4   \n",
       "4       2            4    0    2    0    0    1    2    0    1    0     6   \n",
       "\n",
       "   status  \n",
       "0       0  \n",
       "1       0  \n",
       "2       0  \n",
       "3       0  \n",
       "4       0  "
      ]
     },
     "execution_count": 34,
     "metadata": {},
     "output_type": "execute_result"
    }
   ],
   "source": [
    "random_ai_match_df.head()"
   ]
  },
  {
   "cell_type": "code",
   "execution_count": 35,
   "metadata": {},
   "outputs": [],
   "source": [
    "X = random_ai_match_df.drop([\"status\"], axis=1)\n",
    "y = random_ai_match_df[\"status\"]"
   ]
  },
  {
   "cell_type": "code",
   "execution_count": 36,
   "metadata": {},
   "outputs": [
    {
     "data": {
      "text/plain": [
       "DecisionTreeRegressor(criterion='mse', max_depth=None, max_features=None,\n",
       "           max_leaf_nodes=None, min_samples_leaf=1, min_samples_split=2,\n",
       "           min_weight_fraction_leaf=0.0, presort=False, random_state=0,\n",
       "           splitter='best')"
      ]
     },
     "execution_count": 36,
     "metadata": {},
     "output_type": "execute_result"
    }
   ],
   "source": [
    "regressor = DecisionTreeRegressor(random_state=0)\n",
    "regressor.fit(X, y)"
   ]
  },
  {
   "cell_type": "code",
   "execution_count": 37,
   "metadata": {},
   "outputs": [
    {
     "name": "stdout",
     "output_type": "stream",
     "text": [
      "[ 0.34785894]\n",
      "[ 0.20418707]\n",
      "[ 0.34136733]\n",
      "[ 0.20062278]\n",
      "[ 0.49266497]\n",
      "[ 0.20152366]\n",
      "[ 0.34287253]\n",
      "[ 0.19287189]\n",
      "[ 0.34627954]\n"
     ]
    },
    {
     "name": "stderr",
     "output_type": "stream",
     "text": [
      "/Users/seanosier/anaconda/lib/python3.4/site-packages/sklearn/utils/validation.py:386: DeprecationWarning: Passing 1d arrays as data is deprecated in 0.17 and willraise ValueError in 0.19. Reshape your data either using X.reshape(-1, 1) if your data has a single feature or X.reshape(1, -1) if it contains a single sample.\n",
      "  DeprecationWarning)\n",
      "/Users/seanosier/anaconda/lib/python3.4/site-packages/sklearn/utils/validation.py:386: DeprecationWarning: Passing 1d arrays as data is deprecated in 0.17 and willraise ValueError in 0.19. Reshape your data either using X.reshape(-1, 1) if your data has a single feature or X.reshape(1, -1) if it contains a single sample.\n",
      "  DeprecationWarning)\n",
      "/Users/seanosier/anaconda/lib/python3.4/site-packages/sklearn/utils/validation.py:386: DeprecationWarning: Passing 1d arrays as data is deprecated in 0.17 and willraise ValueError in 0.19. Reshape your data either using X.reshape(-1, 1) if your data has a single feature or X.reshape(1, -1) if it contains a single sample.\n",
      "  DeprecationWarning)\n",
      "/Users/seanosier/anaconda/lib/python3.4/site-packages/sklearn/utils/validation.py:386: DeprecationWarning: Passing 1d arrays as data is deprecated in 0.17 and willraise ValueError in 0.19. Reshape your data either using X.reshape(-1, 1) if your data has a single feature or X.reshape(1, -1) if it contains a single sample.\n",
      "  DeprecationWarning)\n",
      "/Users/seanosier/anaconda/lib/python3.4/site-packages/sklearn/utils/validation.py:386: DeprecationWarning: Passing 1d arrays as data is deprecated in 0.17 and willraise ValueError in 0.19. Reshape your data either using X.reshape(-1, 1) if your data has a single feature or X.reshape(1, -1) if it contains a single sample.\n",
      "  DeprecationWarning)\n",
      "/Users/seanosier/anaconda/lib/python3.4/site-packages/sklearn/utils/validation.py:386: DeprecationWarning: Passing 1d arrays as data is deprecated in 0.17 and willraise ValueError in 0.19. Reshape your data either using X.reshape(-1, 1) if your data has a single feature or X.reshape(1, -1) if it contains a single sample.\n",
      "  DeprecationWarning)\n",
      "/Users/seanosier/anaconda/lib/python3.4/site-packages/sklearn/utils/validation.py:386: DeprecationWarning: Passing 1d arrays as data is deprecated in 0.17 and willraise ValueError in 0.19. Reshape your data either using X.reshape(-1, 1) if your data has a single feature or X.reshape(1, -1) if it contains a single sample.\n",
      "  DeprecationWarning)\n",
      "/Users/seanosier/anaconda/lib/python3.4/site-packages/sklearn/utils/validation.py:386: DeprecationWarning: Passing 1d arrays as data is deprecated in 0.17 and willraise ValueError in 0.19. Reshape your data either using X.reshape(-1, 1) if your data has a single feature or X.reshape(1, -1) if it contains a single sample.\n",
      "  DeprecationWarning)\n",
      "/Users/seanosier/anaconda/lib/python3.4/site-packages/sklearn/utils/validation.py:386: DeprecationWarning: Passing 1d arrays as data is deprecated in 0.17 and willraise ValueError in 0.19. Reshape your data either using X.reshape(-1, 1) if your data has a single feature or X.reshape(1, -1) if it contains a single sample.\n",
      "  DeprecationWarning)\n"
     ]
    }
   ],
   "source": [
    "print(regressor.predict([1, 0, 0, 0, 0, 0, 0, 0, 0, 0, 0, 0]))\n",
    "print(regressor.predict([1, 0, 0, 0, 0, 0, 0, 0, 0, 0, 0, 1]))\n",
    "print(regressor.predict([1, 0, 0, 0, 0, 0, 0, 0, 0, 0, 0, 2]))\n",
    "print(regressor.predict([1, 0, 0, 0, 0, 0, 0, 0, 0, 0, 0, 3]))\n",
    "print(regressor.predict([1, 0, 0, 0, 0, 0, 0, 0, 0, 0, 0, 4]))\n",
    "print(regressor.predict([1, 0, 0, 0, 0, 0, 0, 0, 0, 0, 0, 5]))\n",
    "print(regressor.predict([1, 0, 0, 0, 0, 0, 0, 0, 0, 0, 0, 6]))\n",
    "print(regressor.predict([1, 0, 0, 0, 0, 0, 0, 0, 0, 0, 0, 7]))\n",
    "print(regressor.predict([1, 0, 0, 0, 0, 0, 0, 0, 0, 0, 0, 8]))"
   ]
  },
  {
   "cell_type": "code",
   "execution_count": 38,
   "metadata": {},
   "outputs": [
    {
     "data": {
      "text/plain": [
       "['L',\n",
       " 'W',\n",
       " 2,\n",
       " 3,\n",
       " 4,\n",
       " [[[0, 0, 0], [0, 0, 0], [0, 0, 0]],\n",
       "  [[0, 0, 0], [0, 2, 0], [0, 0, 0]],\n",
       "  [[1, 0, 0], [0, 2, 0], [0, 0, 0]],\n",
       "  [[1, 0, 0], [0, 2, 0], [2, 0, 0]],\n",
       "  [[1, 0, 1], [0, 2, 0], [2, 0, 0]],\n",
       "  [[1, 2, 1], [0, 2, 0], [2, 0, 0]],\n",
       "  [[1, 2, 1], [0, 2, 1], [2, 0, 0]],\n",
       "  [[1, 2, 1], [0, 2, 1], [2, 2, 0]]]]"
      ]
     },
     "execution_count": 38,
     "metadata": {},
     "output_type": "execute_result"
    }
   ],
   "source": [
    "game = generateGameBoard(rows, columns)\n",
    "ai1 = Tic_Tac_Toe_AI(\"dtr\")\n",
    "ai2 = Tic_Tac_Toe_AI(\"dtr\")\n",
    "\n",
    "playGame(ai1, ai2, game)"
   ]
  },
  {
   "cell_type": "code",
   "execution_count": 39,
   "metadata": {
    "collapsed": true
   },
   "outputs": [],
   "source": [
    "initially_trained_ai_match_results = []\n",
    "\n",
    "for i in range(1000000):\n",
    "    game = generateGameBoard(rows, columns)\n",
    "    ai1 = Tic_Tac_Toe_AI(\"dtr\")\n",
    "    ai2 = Tic_Tac_Toe_AI(\"dtr\")\n",
    "\n",
    "    results = playGame(ai1, ai2, game)\n",
    "    initially_trained_ai_match_results.append(results)"
   ]
  },
  {
   "cell_type": "code",
   "execution_count": 40,
   "metadata": {},
   "outputs": [
    {
     "data": {
      "text/plain": [
       "1000000"
      ]
     },
     "execution_count": 40,
     "metadata": {},
     "output_type": "execute_result"
    }
   ],
   "source": [
    "len(initially_trained_ai_match_results)"
   ]
  },
  {
   "cell_type": "code",
   "execution_count": 41,
   "metadata": {},
   "outputs": [
    {
     "data": {
      "text/plain": [
       "Counter({'L': 500872, 'T': 499128})"
      ]
     },
     "execution_count": 41,
     "metadata": {},
     "output_type": "execute_result"
    }
   ],
   "source": [
    "Counter([game[0] for game in initially_trained_ai_match_results])"
   ]
  },
  {
   "cell_type": "code",
   "execution_count": 43,
   "metadata": {},
   "outputs": [
    {
     "data": {
      "text/plain": [
       "['T',\n",
       " 'T',\n",
       " 1,\n",
       " 5,\n",
       " 4,\n",
       " [[[0, 0, 0], [0, 0, 0], [0, 0, 0]],\n",
       "  [[0, 0, 0], [0, 1, 0], [0, 0, 0]],\n",
       "  [[2, 0, 0], [0, 1, 0], [0, 0, 0]],\n",
       "  [[2, 0, 1], [0, 1, 0], [0, 0, 0]],\n",
       "  [[2, 0, 1], [0, 1, 0], [2, 0, 0]],\n",
       "  [[2, 0, 1], [1, 1, 0], [2, 0, 0]],\n",
       "  [[2, 0, 1], [1, 1, 2], [2, 0, 0]],\n",
       "  [[2, 0, 1], [1, 1, 2], [2, 1, 0]],\n",
       "  [[2, 2, 1], [1, 1, 2], [2, 1, 0]],\n",
       "  [[2, 2, 1], [1, 1, 2], [2, 1, 1]]]]"
      ]
     },
     "execution_count": 43,
     "metadata": {},
     "output_type": "execute_result"
    }
   ],
   "source": [
    "initially_trained_ai_match_results[0]"
   ]
  },
  {
   "cell_type": "code",
   "execution_count": 44,
   "metadata": {
    "collapsed": true
   },
   "outputs": [],
   "source": [
    "initially_trained_ai_match_results = expand_game_data(initially_trained_ai_match_results)"
   ]
  },
  {
   "cell_type": "code",
   "execution_count": 49,
   "metadata": {},
   "outputs": [],
   "source": [
    "for move in initially_trained_ai_match_results:\n",
    "    if move[-1] == \"W\":\n",
    "        move[-1] = 1\n",
    "    elif move[-1] == \"T\":\n",
    "        move[-1] = 0\n",
    "    else:\n",
    "        move[-1] = -1"
   ]
  },
  {
   "cell_type": "code",
   "execution_count": 51,
   "metadata": {},
   "outputs": [
    {
     "data": {
      "text/plain": [
       "[[1, 0, 0, 0, 0, 0, 0, 0, 0, 0, 0, 4, 0],\n",
       " [2, 1, 0, 0, 0, 0, 1, 0, 0, 0, 0, 0, 0],\n",
       " [1, 2, 2, 0, 0, 0, 1, 0, 0, 0, 0, 2, 0],\n",
       " [2, 3, 2, 0, 1, 0, 1, 0, 0, 0, 0, 6, 0],\n",
       " [1, 4, 2, 0, 1, 0, 1, 0, 2, 0, 0, 3, 0],\n",
       " [2, 5, 2, 0, 1, 1, 1, 0, 2, 0, 0, 5, 0],\n",
       " [1, 6, 2, 0, 1, 1, 1, 2, 2, 0, 0, 7, 0],\n",
       " [2, 7, 2, 0, 1, 1, 1, 2, 2, 1, 0, 1, 0],\n",
       " [1, 8, 2, 2, 1, 1, 1, 2, 2, 1, 0, 8, 0],\n",
       " [1, 0, 0, 0, 0, 0, 0, 0, 0, 0, 0, 4, 0],\n",
       " [2, 1, 0, 0, 0, 0, 1, 0, 0, 0, 0, 0, 0],\n",
       " [1, 2, 2, 0, 0, 0, 1, 0, 0, 0, 0, 2, 0],\n",
       " [2, 3, 2, 0, 1, 0, 1, 0, 0, 0, 0, 6, 0],\n",
       " [1, 4, 2, 0, 1, 0, 1, 0, 2, 0, 0, 3, 0],\n",
       " [2, 5, 2, 0, 1, 1, 1, 0, 2, 0, 0, 5, 0],\n",
       " [1, 6, 2, 0, 1, 1, 1, 2, 2, 0, 0, 7, 0],\n",
       " [2, 7, 2, 0, 1, 1, 1, 2, 2, 1, 0, 1, 0],\n",
       " [1, 8, 2, 2, 1, 1, 1, 2, 2, 1, 0, 8, 0],\n",
       " [2, 0, 0, 0, 0, 0, 0, 0, 0, 0, 0, 4, 1],\n",
       " [1, 1, 0, 0, 0, 0, 2, 0, 0, 0, 0, 0, -1]]"
      ]
     },
     "execution_count": 51,
     "metadata": {},
     "output_type": "execute_result"
    }
   ],
   "source": [
    "initially_trained_ai_match_results[:20]"
   ]
  },
  {
   "cell_type": "code",
   "execution_count": 52,
   "metadata": {
    "collapsed": true
   },
   "outputs": [],
   "source": [
    "initially_trained_ai_match_df = pd.DataFrame(initially_trained_ai_match_results, \n",
    "                                  columns=[\"player\", \"move_number\", \"sq0\", \"sq1\", \"sq2\", \"sq3\", \"sq4\", \"sq5\", \"sq6\", \n",
    "                                           \"sq7\", \"sq8\", \"move\", \"status\"])"
   ]
  },
  {
   "cell_type": "code",
   "execution_count": 56,
   "metadata": {},
   "outputs": [
    {
     "data": {
      "text/plain": [
       "7998256"
      ]
     },
     "execution_count": 56,
     "metadata": {},
     "output_type": "execute_result"
    }
   ],
   "source": [
    "len(initially_trained_ai_match_df)"
   ]
  },
  {
   "cell_type": "code",
   "execution_count": 53,
   "metadata": {
    "scrolled": true
   },
   "outputs": [
    {
     "data": {
      "text/html": [
       "<div>\n",
       "<table border=\"1\" class=\"dataframe\">\n",
       "  <thead>\n",
       "    <tr style=\"text-align: right;\">\n",
       "      <th></th>\n",
       "      <th>player</th>\n",
       "      <th>move_number</th>\n",
       "      <th>sq0</th>\n",
       "      <th>sq1</th>\n",
       "      <th>sq2</th>\n",
       "      <th>sq3</th>\n",
       "      <th>sq4</th>\n",
       "      <th>sq5</th>\n",
       "      <th>sq6</th>\n",
       "      <th>sq7</th>\n",
       "      <th>sq8</th>\n",
       "      <th>move</th>\n",
       "      <th>status</th>\n",
       "    </tr>\n",
       "  </thead>\n",
       "  <tbody>\n",
       "    <tr>\n",
       "      <th>0</th>\n",
       "      <td>1</td>\n",
       "      <td>0</td>\n",
       "      <td>0</td>\n",
       "      <td>0</td>\n",
       "      <td>0</td>\n",
       "      <td>0</td>\n",
       "      <td>0</td>\n",
       "      <td>0</td>\n",
       "      <td>0</td>\n",
       "      <td>0</td>\n",
       "      <td>0</td>\n",
       "      <td>4</td>\n",
       "      <td>0</td>\n",
       "    </tr>\n",
       "    <tr>\n",
       "      <th>1</th>\n",
       "      <td>2</td>\n",
       "      <td>1</td>\n",
       "      <td>0</td>\n",
       "      <td>0</td>\n",
       "      <td>0</td>\n",
       "      <td>0</td>\n",
       "      <td>1</td>\n",
       "      <td>0</td>\n",
       "      <td>0</td>\n",
       "      <td>0</td>\n",
       "      <td>0</td>\n",
       "      <td>0</td>\n",
       "      <td>0</td>\n",
       "    </tr>\n",
       "    <tr>\n",
       "      <th>2</th>\n",
       "      <td>1</td>\n",
       "      <td>2</td>\n",
       "      <td>2</td>\n",
       "      <td>0</td>\n",
       "      <td>0</td>\n",
       "      <td>0</td>\n",
       "      <td>1</td>\n",
       "      <td>0</td>\n",
       "      <td>0</td>\n",
       "      <td>0</td>\n",
       "      <td>0</td>\n",
       "      <td>2</td>\n",
       "      <td>0</td>\n",
       "    </tr>\n",
       "    <tr>\n",
       "      <th>3</th>\n",
       "      <td>2</td>\n",
       "      <td>3</td>\n",
       "      <td>2</td>\n",
       "      <td>0</td>\n",
       "      <td>1</td>\n",
       "      <td>0</td>\n",
       "      <td>1</td>\n",
       "      <td>0</td>\n",
       "      <td>0</td>\n",
       "      <td>0</td>\n",
       "      <td>0</td>\n",
       "      <td>6</td>\n",
       "      <td>0</td>\n",
       "    </tr>\n",
       "    <tr>\n",
       "      <th>4</th>\n",
       "      <td>1</td>\n",
       "      <td>4</td>\n",
       "      <td>2</td>\n",
       "      <td>0</td>\n",
       "      <td>1</td>\n",
       "      <td>0</td>\n",
       "      <td>1</td>\n",
       "      <td>0</td>\n",
       "      <td>2</td>\n",
       "      <td>0</td>\n",
       "      <td>0</td>\n",
       "      <td>3</td>\n",
       "      <td>0</td>\n",
       "    </tr>\n",
       "  </tbody>\n",
       "</table>\n",
       "</div>"
      ],
      "text/plain": [
       "   player  move_number  sq0  sq1  sq2  sq3  sq4  sq5  sq6  sq7  sq8  move  \\\n",
       "0       1            0    0    0    0    0    0    0    0    0    0     4   \n",
       "1       2            1    0    0    0    0    1    0    0    0    0     0   \n",
       "2       1            2    2    0    0    0    1    0    0    0    0     2   \n",
       "3       2            3    2    0    1    0    1    0    0    0    0     6   \n",
       "4       1            4    2    0    1    0    1    0    2    0    0     3   \n",
       "\n",
       "   status  \n",
       "0       0  \n",
       "1       0  \n",
       "2       0  \n",
       "3       0  \n",
       "4       0  "
      ]
     },
     "execution_count": 53,
     "metadata": {},
     "output_type": "execute_result"
    }
   ],
   "source": [
    "initially_trained_ai_match_df.head()"
   ]
  },
  {
   "cell_type": "code",
   "execution_count": 58,
   "metadata": {},
   "outputs": [],
   "source": [
    "X = pd.concat([X, initially_trained_ai_match_df.drop([\"status\"], axis=1)])\n",
    "y = pd.concat([y, initially_trained_ai_match_df[\"status\"]])"
   ]
  },
  {
   "cell_type": "code",
   "execution_count": 59,
   "metadata": {},
   "outputs": [
    {
     "data": {
      "text/plain": [
       "15622998"
      ]
     },
     "execution_count": 59,
     "metadata": {},
     "output_type": "execute_result"
    }
   ],
   "source": [
    "len(X)"
   ]
  },
  {
   "cell_type": "code",
   "execution_count": 60,
   "metadata": {},
   "outputs": [
    {
     "data": {
      "text/plain": [
       "DecisionTreeRegressor(criterion='mse', max_depth=None, max_features=None,\n",
       "           max_leaf_nodes=None, min_samples_leaf=1, min_samples_split=2,\n",
       "           min_weight_fraction_leaf=0.0, presort=False, random_state=0,\n",
       "           splitter='best')"
      ]
     },
     "execution_count": 60,
     "metadata": {},
     "output_type": "execute_result"
    }
   ],
   "source": [
    "regressor = DecisionTreeRegressor(random_state=0)\n",
    "regressor.fit(X, y)"
   ]
  },
  {
   "cell_type": "code",
   "execution_count": 64,
   "metadata": {},
   "outputs": [
    {
     "data": {
      "text/plain": [
       "['L',\n",
       " 'W',\n",
       " 2,\n",
       " 3,\n",
       " 4,\n",
       " [[[0, 0, 0], [0, 0, 0], [0, 0, 0]],\n",
       "  [[2, 0, 0], [0, 0, 0], [0, 0, 0]],\n",
       "  [[2, 1, 0], [0, 0, 0], [0, 0, 0]],\n",
       "  [[2, 1, 0], [0, 0, 0], [0, 0, 2]],\n",
       "  [[2, 1, 1], [0, 0, 0], [0, 0, 2]],\n",
       "  [[2, 1, 1], [0, 0, 0], [2, 0, 2]],\n",
       "  [[2, 1, 1], [1, 0, 0], [2, 0, 2]],\n",
       "  [[2, 1, 1], [1, 2, 0], [2, 0, 2]]]]"
      ]
     },
     "execution_count": 64,
     "metadata": {},
     "output_type": "execute_result"
    }
   ],
   "source": [
    "game = generateGameBoard(rows, columns)\n",
    "ai1 = Tic_Tac_Toe_AI(\"dtr\")\n",
    "ai2 = Tic_Tac_Toe_AI(\"dtr\")\n",
    "\n",
    "playGame(ai1, ai2, game)"
   ]
  },
  {
   "cell_type": "code",
   "execution_count": null,
   "metadata": {
    "collapsed": true
   },
   "outputs": [],
   "source": []
  }
 ],
 "metadata": {
  "kernelspec": {
   "display_name": "Python 3",
   "language": "python",
   "name": "python3"
  },
  "language_info": {
   "codemirror_mode": {
    "name": "ipython",
    "version": 3
   },
   "file_extension": ".py",
   "mimetype": "text/x-python",
   "name": "python",
   "nbconvert_exporter": "python",
   "pygments_lexer": "ipython3",
   "version": "3.6.3"
  }
 },
 "nbformat": 4,
 "nbformat_minor": 1
}
